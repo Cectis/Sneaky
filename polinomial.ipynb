{
  "nbformat": 4,
  "nbformat_minor": 0,
  "metadata": {
    "colab": {
      "provenance": []
    },
    "kernelspec": {
      "name": "python3",
      "display_name": "Python 3"
    }
  },
  "cells": [
    {
      "cell_type": "code",
      "metadata": {
        "id": "fbaXIPLqX_e6"
      },
      "source": [
        "import numpy as np\n",
        "from matplotlib import pyplot as plt"
      ],
      "execution_count": null,
      "outputs": []
    },
    {
      "cell_type": "code",
      "metadata": {
        "id": "MgRkL8EXYfVN"
      },
      "source": [
        "def elimgauss(A,b):\n",
        "\n",
        "  n = np.size(b)\n",
        "  for k in range (n-1):\n",
        "    for i in range(k+1,n):\n",
        "        m = A[i,k]/A[k, k]                   # Método de resolução de sistemas por eliminação gaussiana\n",
        "        A[i,:] = (A[i,:] - m*A[k,:])         \n",
        "        b[i] = b[i] - m*b[k]\n",
        "\n",
        "  x = np.zeros(n)\n",
        "  x[-1]=b[-1]/A[-1, -1]\n",
        "\n",
        "  for i in reversed(range(n-1)):\n",
        "      s = 0\n",
        "      for j in range(i+1,n):\n",
        "        s += A[i,j]*x[j]\n",
        "      x[i] = (b[i]-s)/A[i,i]\n",
        "\n",
        "  return x"
      ],
      "execution_count": null,
      "outputs": []
    },
    {
      "cell_type": "code",
      "metadata": {
        "id": "XMce1JBuhFjW"
      },
      "source": [
        "def pol(x, cte):\n",
        "\n",
        "  n = 0\n",
        "  f = 0                    #definindo variáveis e funções iniciais\n",
        "  for a in cte:\n",
        "      f += a*x**n\n",
        "      n += 1\n",
        "  return f"
      ],
      "execution_count": null,
      "outputs": []
    },
    {
      "cell_type": "code",
      "metadata": {
        "colab": {
          "base_uri": "https://localhost:8080/",
          "height": 282
        },
        "id": "EpRhD0-2a-jX",
        "outputId": "1ec74936-b9bc-4e32-d4a7-4c4c51aa1944"
      },
      "source": [
        "data = np.loadtxt('data')\n",
        "x = data[:,0]\n",
        "y = data[:,1]\n",
        "plt.plot(x,y, 'ro')              #acessando os dados coletados\n",
        "\n",
        "n = np.size(data,0)\n",
        "\n",
        "print (n)\n"
      ],
      "execution_count": null,
      "outputs": [
        {
          "output_type": "stream",
          "text": [
            "10\n"
          ],
          "name": "stdout"
        },
        {
          "output_type": "display_data",
          "data": {
            "image/png": "[encoded data removed]",
            "text/plain": [
              "<Figure size 432x288 with 1 Axes>"
            ]
          },
          "metadata": {
            "tags": [],
            "needs_background": "light"
          }
        }
      ]
    },
    {
      "cell_type": "code",
      "metadata": {
        "id": "77H_gbE6cI7V"
      },
      "source": [
        "A = np.zeros([n,n])\n",
        "b = np.zeros(n)\n",
        "\n",
        "for i in range(n):\n",
        "  for j in range(n):\n",
        "    A[i,j] = data[i,0]**j\n",
        "    b[i] = data[i,1]\n",
        "\n",
        "cte = elimgauss(A,b)"
      ],
      "execution_count": null,
      "outputs": []
    },
    {
      "cell_type": "code",
      "metadata": {
        "colab": {
          "base_uri": "https://localhost:8080/",
          "height": 601
        },
        "id": "OoI37NwkgGh0",
        "outputId": "073eccba-8db4-4180-e7ae-16e3c4470847"
      },
      "source": [
        "x = data[:,0]\n",
        "y = data[:,1]\n",
        "\n",
        "xx = np.linspace(1,10,100)\n",
        "yy = pol(xx, cte)                  #calculando  a função polinomial e plotando dados\n",
        "\n",
        "plt.plot(x,y, 'go')\n",
        "plt.plot(xx,yy)\n",
        "\n",
        "print (yy)"
      ],
      "execution_count": null,
      "outputs": [
        {
          "output_type": "stream",
          "text": [
            "[ 81.4        123.95088901 147.54844484 157.19636063 156.95559968\n",
            " 150.0765624  139.11757899 126.05072477 112.35590868  99.10414064\n",
            "  87.03083948  76.6         68.059996    61.49175506  56.85000085\n",
            "  53.99822003  52.73797289  52.83312979  54.02957994  56.07092407\n",
            "  58.71062872  61.72108713  64.9         68.07445847  71.10308226\n",
            "  73.87653672  76.31672545  78.37492781  80.02912562  81.28073827\n",
            "  82.15096205  82.67688678  82.9075415   82.9         82.71565795\n",
            "  82.41677432  82.06335272  81.71042158  81.40575667  81.18807505\n",
            "  81.08571602  81.11581235  81.2839436   81.58425301  82.\n",
            "  82.50451215  83.06249307  83.63163625  84.16448996  84.61051358\n",
            "  84.918263    85.03764004  84.92213997  84.53103087  83.8313995\n",
            "  82.8         81.42484495  79.70648189  77.65890348  75.31004541\n",
            "  72.70183298  69.88974547  66.94187615  63.93747601  60.96498011\n",
            "  58.11952768  55.5         53.20561435  51.33212717  49.96771591\n",
            "  49.18862616  49.05468858  49.60482974  50.85272066  52.78272849\n",
            "  55.34635886  58.45939946  62.          65.80794895  69.68543338\n",
            "  73.39959614  76.68723241  79.26199748  80.8245275   81.07590698\n",
            "  79.7349485   76.55978421  71.3743026   64.1         54.79385218\n",
            "  43.69284969  31.26587819  18.27366555   5.83755711  -4.48207699\n",
            " -10.59695682  -9.79063989   1.39403337  27.28077611  73.19999999]\n"
          ],
          "name": "stdout"
        },
        {
          "output_type": "display_data",
          "data": {
            "image/png": "[encoded data removed]",
            "text/plain": [
              "<Figure size 432x288 with 1 Axes>"
            ]
          },
          "metadata": {
            "tags": [],
            "needs_background": "light"
          }
        }
      ]
    }
  ]
}