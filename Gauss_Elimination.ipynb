{
  "nbformat": 4,
  "nbformat_minor": 0,
  "metadata": {
    "colab": {
      "provenance": []
    },
    "kernelspec": {
      "name": "python3",
      "display_name": "Python 3"
    }
  },
  "cells": [
    {
      "cell_type": "code",
      "metadata": {
        "id": "6aVNqIyqEoZk"
      },
      "source": [
        "def eliminGauss(A,b):  # função de eliminação gaussiana que recebe A e b como parametros. \n",
        "  n = len(A)            # tamanho da matriz A\n",
        "  M = A                 # matriz A guardada na variavel M\n",
        "\n",
        "  i = 0\n",
        "  for x in M:           # Para x em M, x é adicionado do elemento b e seu respectivo índice \n",
        "   x.append(b[i])\n",
        "   i += 1               # e adiciona-se +1 a cada loop realizado.\n",
        "\n",
        "  for k in range(n):              # para cada k dentro do limite de n\n",
        "   for i in range(k,n):                   # para i dentro do intervalo de (k,n)\n",
        "     if abs(M[i][k]) > abs(M[k][k]):      # condição de comparação de valores em módulo das matrizes\n",
        "        M[k], M[i] = M[i],M[k]            # Se entra na condição, temos o valor \n",
        "     else:                                # se não entra na condição, é passada para o próximo bloco\n",
        "        pass\n",
        "\n",
        "   for j in range(k+1,n):             # para j dentro do intervalo (k+1, n), \n",
        "      q = M[j][k] / M[k][k]           # guardamos este conteúdo dentro da variável q\n",
        "      for m in range(k, n+1):         # para m dentro do intervalo (k, n+1);\n",
        "        M[j][m] -=  q * M[k][m]       # é realizado a subtração da multiplicação de q com a matriz M[k][m], de M[j][m]\n",
        "                                      # realizada a multiplicação das matrizes.\n",
        "\n",
        "  x = [0 for i in range(n)]         # valor de x de 0 para i dentro do intervalo de n\n",
        "\n",
        "  x[n-1] =float(M[n-1][n])/M[n-1][n-1]  # valor de x com indice decrescido de n-1, sendo o valor de tipagem float \n",
        "  for i in range (n-1,-1,-1):           # valor inicial (n-1), o índice final (-1) e o passo (-1).\n",
        "    z = 0\n",
        "    for j in range(i+1,n):              # para j dentro do intervalo (i+1, n)\n",
        "        z = z  + float(M[i][j])*x[j]    # o valor de z será z adicionado pela matriz M multiplicada por j\n",
        "    x[i] = float(M[i][n] - z)/M[i][i]   # o valor de cada elemento de x de acordo com seu indice i.\n",
        "  print (x)                             # imprime o x"
      ],
      "execution_count": null,
      "outputs": []
    },
    {
      "cell_type": "code",
      "metadata": {
        "id": "SKB2meQ-HDHI"
      },
      "source": [
        "A = [[11, -6, -2, 0, 0, 0, 0], [-1, 3, 0, -2, 0, 0, 0], [-4, 0, 9, -2, -3, 0, 0], [0, -6, -1, 10, 0, -3, 0], [0, 0, -5, 0, 19, -10, 0], [0, 0, 0, -6, -3, 13, -4], [0, 0, 0, 0, 0, -5, 8]]\n",
        "b = [60, 0, 0, 0, 0, 0, 0]"
      ],
      "execution_count": null,
      "outputs": []
    },
    {
      "cell_type": "code",
      "metadata": {
        "colab": {
          "base_uri": "https://localhost:8080/"
        },
        "id": "s9N9BX-3IKUe",
        "outputId": "b953906b-43d3-47f7-ca52-e80e48986618"
      },
      "source": [
        "eliminGauss(A,b)"
      ],
      "execution_count": null,
      "outputs": [
        {
          "output_type": "stream",
          "text": [
            "[13.516716038933556, 11.265340668641551, 10.545916208209897, 10.139652983495552, 6.855691917054588, 7.75285653829877, 4.845535336436732]\n"
          ],
          "name": "stdout"
        }
      ]
    }
  ]
}